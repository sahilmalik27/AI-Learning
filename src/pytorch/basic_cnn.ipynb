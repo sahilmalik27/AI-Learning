{
 "cells": [
  {
   "cell_type": "code",
   "execution_count": null,
   "id": "dd20372c",
   "metadata": {},
   "outputs": [],
   "source": []
  },
  {
   "cell_type": "code",
   "execution_count": null,
   "id": "4cad0626",
   "metadata": {},
   "outputs": [],
   "source": [
    "import torch\n",
    "import torch.nn as nn\n",
    "import torch.nn.functional as F\n",
    "\n",
    "class CNN(nn.Module):\n",
    "    def __init__(self):\n",
    "        super().__init__()\n",
    "        # First conv block: in_channels=1 (grayscale), out_channels=32 filters, 3x3 kernel\n",
    "        self.conv1 = nn.Conv2d(1, 32, kernel_size=3, padding=1)   # output: [32,28,28]\n",
    "        self.pool1 = nn.MaxPool2d(2, 2)                          # output: [32,14,14]\n",
    "\n",
    "        # Second conv block: input 32 → 64 filters\n",
    "        self.conv2 = nn.Conv2d(32, 64, kernel_size=3, padding=1) # output: [64,14,14]\n",
    "        self.pool2 = nn.MaxPool2d(2, 2)                          # output: [64,7,7]\n",
    "\n",
    "        # Fully connected layers\n",
    "        self.fc1 = nn.Linear(64*7*7, 128)  # Flatten [64,7,7] → 3136\n",
    "        self.fc2 = nn.Linear(128, 10)      # 10 logits\n",
    "\n",
    "    def forward(self, x):\n",
    "        # Convolutional feature extraction\n",
    "        x = self.pool1(F.relu(self.conv1(x)))\n",
    "        x = self.pool2(F.relu(self.conv2(x)))\n",
    "\n",
    "        # Flatten\n",
    "        x = x.view(x.size(0), -1)   # [B, 64*7*7]\n",
    "\n",
    "        # Fully connected\n",
    "        x = F.relu(self.fc1(x))\n",
    "        x = self.fc2(x)             # logits, no softmax here\n",
    "        return x\n"
   ]
  },
  {
   "cell_type": "code",
   "execution_count": null,
   "id": "c02d7dbe",
   "metadata": {},
   "outputs": [],
   "source": []
  },
  {
   "cell_type": "code",
   "execution_count": null,
   "id": "f998efdc",
   "metadata": {},
   "outputs": [],
   "source": []
  }
 ],
 "metadata": {
  "language_info": {
   "name": "python"
  }
 },
 "nbformat": 4,
 "nbformat_minor": 5
}
