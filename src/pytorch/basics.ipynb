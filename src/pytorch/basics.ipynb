{
 "cells": [
  {
   "cell_type": "code",
   "execution_count": 3,
   "id": "6a7d0ed6",
   "metadata": {},
   "outputs": [
    {
     "name": "stdout",
     "output_type": "stream",
     "text": [
      "2.4.1\n",
      "True\n",
      "CUDA available: False\n",
      "Number of CUDA GPUs: 0\n",
      "MPS available: True\n"
     ]
    }
   ],
   "source": [
    "import torch\n",
    "print(torch.__version__)\n",
    "print(torch.backends.mps.is_available())\n",
    "\n",
    "# CUDA (NVIDIA GPUs) - won’t show anything on your Mac\n",
    "print(\"CUDA available:\", torch.cuda.is_available())\n",
    "print(\"Number of CUDA GPUs:\", torch.cuda.device_count())\n",
    "\n",
    "# MPS (Apple Silicon GPUs)\n",
    "print(\"MPS available:\", torch.backends.mps.is_available())\n"
   ]
  },
  {
   "cell_type": "code",
   "execution_count": 4,
   "id": "e19cc8d7",
   "metadata": {},
   "outputs": [
    {
     "name": "stdout",
     "output_type": "stream",
     "text": [
      "Using device: mps\n",
      "mps:0\n"
     ]
    }
   ],
   "source": [
    "\n",
    "\n",
    "# pick device automatically\n",
    "device = (\n",
    "    \"cuda\" if torch.cuda.is_available() else \n",
    "    \"mps\" if torch.backends.mps.is_available() else \n",
    "    \"cpu\"\n",
    ")\n",
    "\n",
    "print(\"Using device:\", device)\n",
    "\n",
    "# Example: create a tensor directly on device\n",
    "x = torch.randn(3, 3, device=device)\n",
    "print(x.device)\n"
   ]
  },
  {
   "cell_type": "code",
   "execution_count": 2,
   "id": "64eda1d7",
   "metadata": {},
   "outputs": [
    {
     "name": "stdout",
     "output_type": "stream",
     "text": [
      "x:\n",
      " tensor([[1., 2.],\n",
      "        [3., 4.]])\n",
      "y:\n",
      " tensor([[1., 1.],\n",
      "        [1., 1.]])\n",
      "x + y:\n",
      " tensor([[2., 3.],\n",
      "        [4., 5.]])\n",
      "x * y:\n",
      " tensor([[1., 2.],\n",
      "        [3., 4.]])\n",
      "Matrix multiply x @ y^T:\n",
      " tensor([[3., 3.],\n",
      "        [7., 7.]])\n"
     ]
    }
   ],
   "source": [
    "\n",
    "# create some tensors\n",
    "x = torch.tensor([[1., 2.], [3., 4.]])\n",
    "y = torch.ones((2, 2))\n",
    "\n",
    "print(\"x:\\n\", x)\n",
    "print(\"y:\\n\", y)\n",
    "print(\"x + y:\\n\", x + y)   # element-wise add\n",
    "print(\"x * y:\\n\", x * y)   # element-wise multiply\n",
    "print(\"Matrix multiply x @ y^T:\\n\", x @ y.T)\n"
   ]
  },
  {
   "cell_type": "code",
   "execution_count": 5,
   "id": "011fb77b",
   "metadata": {},
   "outputs": [
    {
     "name": "stdout",
     "output_type": "stream",
     "text": [
      "y: 10.0\n",
      "Gradient dy/dx at x=2: 7.0\n"
     ]
    }
   ],
   "source": [
    "# create a tensor with gradient tracking\n",
    "x = torch.tensor(2.0, requires_grad=True)\n",
    "\n",
    "# define a function: y = x^2 + 3x\n",
    "y = x**2 + 3*x\n",
    "print(\"y:\", y.item())\n",
    "\n",
    "# compute dy/dx using autograd\n",
    "y.backward()\n",
    "\n",
    "print(\"Gradient dy/dx at x=2:\", x.grad.item())"
   ]
  },
  {
   "cell_type": "code",
   "execution_count": 6,
   "id": "ace0643f",
   "metadata": {},
   "outputs": [
    {
     "name": "stdout",
     "output_type": "stream",
     "text": [
      "y: 18.0\n",
      "Gradient dy/dx at x=2: 24.0\n"
     ]
    }
   ],
   "source": [
    "y = x**3 + 5*x\n",
    "print(\"y:\", y.item())\n",
    "\n",
    "# compute dy/dx using autograd\n",
    "y.backward()\n",
    "\n",
    "print(\"Gradient dy/dx at x=2:\", x.grad.item())"
   ]
  },
  {
   "cell_type": "code",
   "execution_count": 7,
   "id": "edfe7fd6",
   "metadata": {},
   "outputs": [
    {
     "name": "stdout",
     "output_type": "stream",
     "text": [
      "tensor([[1., 1., 1.],\n",
      "        [1., 1., 1.],\n",
      "        [1., 1., 1.]], device='mps:0', requires_grad=True)\n"
     ]
    }
   ],
   "source": [
    "x = torch.ones((3, 3), dtype=torch.float32, device=\"mps\", requires_grad=True)\n",
    "print(x)\n"
   ]
  },
  {
   "cell_type": "code",
   "execution_count": 8,
   "id": "743a9306",
   "metadata": {},
   "outputs": [
    {
     "name": "stdout",
     "output_type": "stream",
     "text": [
      "y: 17.0\n",
      "dy/dx1: 4.0\n",
      "dy/dx2: 6.0\n"
     ]
    }
   ],
   "source": [
    "\n",
    "\n",
    "# two inputs, both require gradients\n",
    "x1 = torch.tensor(2.0, requires_grad=True)\n",
    "x2 = torch.tensor(3.0, requires_grad=True)\n",
    "\n",
    "# function: y = 4*x1 + x2^2\n",
    "y = 4*x1 + x2**2\n",
    "print(\"y:\", y.item())\n",
    "\n",
    "# compute gradients\n",
    "y.backward()\n",
    "\n",
    "print(\"dy/dx1:\", x1.grad.item())  # should be 4\n",
    "print(\"dy/dx2:\", x2.grad.item())  # should be 2*x2 = 6\n"
   ]
  },
  {
   "cell_type": "code",
   "execution_count": null,
   "id": "d82c7c3f",
   "metadata": {},
   "outputs": [],
   "source": []
  },
  {
   "cell_type": "markdown",
   "id": "cfa2d6ac",
   "metadata": {},
   "source": [
    "## Linear Regression"
   ]
  },
  {
   "cell_type": "markdown",
   "id": "2d38ea6b",
   "metadata": {},
   "source": [
    "\n"
   ]
  },
  {
   "cell_type": "code",
   "execution_count": 9,
   "id": "41dd4566",
   "metadata": {},
   "outputs": [],
   "source": [
    "import torch.nn as nn\n",
    "\n",
    "# Linear Regression: y = wx + b\n",
    "class LinearRegression(nn.Module):\n",
    "    def __init__(self):\n",
    "        super().__init__()\n",
    "        self.linear = nn.Linear(1, 1)  # input_dim=1, output_dim=1\n",
    "\n",
    "    def forward(self, x):\n",
    "        return self.linear(x)"
   ]
  },
  {
   "cell_type": "code",
   "execution_count": 10,
   "id": "09ea9d57",
   "metadata": {},
   "outputs": [],
   "source": [
    "# training data\n",
    "X = torch.linspace(0, 10, 100).unsqueeze(1)   # shape [100,1]\n",
    "y = 2*X + 1 + 0.2*torch.randn(X.shape)        # add noise\n"
   ]
  },
  {
   "cell_type": "code",
   "execution_count": 11,
   "id": "21d3f706",
   "metadata": {},
   "outputs": [
    {
     "name": "stdout",
     "output_type": "stream",
     "text": [
      "Epoch 50, Loss = 0.0453\n",
      "Epoch 100, Loss = 0.0433\n",
      "Epoch 150, Loss = 0.0422\n",
      "Epoch 200, Loss = 0.0414\n"
     ]
    }
   ],
   "source": [
    "model = LinearRegression()\n",
    "criterion = nn.MSELoss()\n",
    "optimizer = torch.optim.SGD(model.parameters(), lr=0.01)\n",
    "\n",
    "# training loop\n",
    "for epoch in range(200):\n",
    "    # forward pass\n",
    "    y_pred = model(X)\n",
    "    loss = criterion(y_pred, y)\n",
    "\n",
    "    # backward pass\n",
    "    optimizer.zero_grad()\n",
    "    loss.backward()\n",
    "    optimizer.step()\n",
    "\n",
    "    if (epoch+1) % 50 == 0:\n",
    "        print(f\"Epoch {epoch+1}, Loss = {loss.item():.4f}\")\n"
   ]
  },
  {
   "cell_type": "code",
   "execution_count": 12,
   "id": "d2fc7977",
   "metadata": {},
   "outputs": [
    {
     "name": "stdout",
     "output_type": "stream",
     "text": [
      "linear.weight tensor([[2.0006]])\n",
      "linear.bias tensor([0.9705])\n"
     ]
    }
   ],
   "source": [
    "for name, param in model.named_parameters():\n",
    "    print(name, param.data)\n"
   ]
  },
  {
   "cell_type": "code",
   "execution_count": null,
   "id": "126893b9",
   "metadata": {},
   "outputs": [],
   "source": []
  },
  {
   "cell_type": "markdown",
   "id": "f69ea3ff",
   "metadata": {},
   "source": [
    "# MLP"
   ]
  },
  {
   "cell_type": "markdown",
   "id": "e7d1fc7a",
   "metadata": {},
   "source": []
  },
  {
   "cell_type": "code",
   "execution_count": 13,
   "id": "4ad9d909",
   "metadata": {},
   "outputs": [
    {
     "name": "stdout",
     "output_type": "stream",
     "text": [
      "Using device: mps\n"
     ]
    },
    {
     "data": {
      "text/plain": [
       "<torch._C.Generator at 0x12133c1b0>"
      ]
     },
     "execution_count": 13,
     "metadata": {},
     "output_type": "execute_result"
    }
   ],
   "source": [
    "import torch, torch.nn as nn, torch.nn.functional as F\n",
    "from torch.utils.data import DataLoader\n",
    "from torchvision import datasets, transforms\n",
    "\n",
    "# device pick (CUDA → MPS → CPU)\n",
    "device = (\n",
    "    \"cuda\" if torch.cuda.is_available() else\n",
    "    \"mps\" if torch.backends.mps.is_available() else\n",
    "    \"cpu\"\n",
    ")\n",
    "print(\"Using device:\", device)\n",
    "\n",
    "# Reproducibility\n",
    "torch.manual_seed(42)\n"
   ]
  },
  {
   "cell_type": "code",
   "execution_count": 14,
   "id": "8993a032",
   "metadata": {},
   "outputs": [
    {
     "name": "stdout",
     "output_type": "stream",
     "text": [
      "Downloading http://yann.lecun.com/exdb/mnist/train-images-idx3-ubyte.gz\n",
      "Failed to download (trying next):\n",
      "HTTP Error 404: Not Found\n",
      "\n",
      "Downloading https://ossci-datasets.s3.amazonaws.com/mnist/train-images-idx3-ubyte.gz\n",
      "Downloading https://ossci-datasets.s3.amazonaws.com/mnist/train-images-idx3-ubyte.gz to ./data/MNIST/raw/train-images-idx3-ubyte.gz\n"
     ]
    },
    {
     "name": "stderr",
     "output_type": "stream",
     "text": [
      "100%|██████████| 9912422/9912422 [00:11<00:00, 891595.28it/s] \n"
     ]
    },
    {
     "name": "stdout",
     "output_type": "stream",
     "text": [
      "Extracting ./data/MNIST/raw/train-images-idx3-ubyte.gz to ./data/MNIST/raw\n",
      "\n",
      "Downloading http://yann.lecun.com/exdb/mnist/train-labels-idx1-ubyte.gz\n",
      "Failed to download (trying next):\n",
      "HTTP Error 404: Not Found\n",
      "\n",
      "Downloading https://ossci-datasets.s3.amazonaws.com/mnist/train-labels-idx1-ubyte.gz\n",
      "Downloading https://ossci-datasets.s3.amazonaws.com/mnist/train-labels-idx1-ubyte.gz to ./data/MNIST/raw/train-labels-idx1-ubyte.gz\n"
     ]
    },
    {
     "name": "stderr",
     "output_type": "stream",
     "text": [
      "100%|██████████| 28881/28881 [00:00<00:00, 88903.41it/s]\n"
     ]
    },
    {
     "name": "stdout",
     "output_type": "stream",
     "text": [
      "Extracting ./data/MNIST/raw/train-labels-idx1-ubyte.gz to ./data/MNIST/raw\n",
      "\n",
      "Downloading http://yann.lecun.com/exdb/mnist/t10k-images-idx3-ubyte.gz\n",
      "Failed to download (trying next):\n",
      "HTTP Error 404: Not Found\n",
      "\n",
      "Downloading https://ossci-datasets.s3.amazonaws.com/mnist/t10k-images-idx3-ubyte.gz\n",
      "Downloading https://ossci-datasets.s3.amazonaws.com/mnist/t10k-images-idx3-ubyte.gz to ./data/MNIST/raw/t10k-images-idx3-ubyte.gz\n"
     ]
    },
    {
     "name": "stderr",
     "output_type": "stream",
     "text": [
      "100%|██████████| 1648877/1648877 [00:04<00:00, 358778.57it/s]\n"
     ]
    },
    {
     "name": "stdout",
     "output_type": "stream",
     "text": [
      "Extracting ./data/MNIST/raw/t10k-images-idx3-ubyte.gz to ./data/MNIST/raw\n",
      "\n",
      "Downloading http://yann.lecun.com/exdb/mnist/t10k-labels-idx1-ubyte.gz\n",
      "Failed to download (trying next):\n",
      "HTTP Error 404: Not Found\n",
      "\n",
      "Downloading https://ossci-datasets.s3.amazonaws.com/mnist/t10k-labels-idx1-ubyte.gz\n",
      "Downloading https://ossci-datasets.s3.amazonaws.com/mnist/t10k-labels-idx1-ubyte.gz to ./data/MNIST/raw/t10k-labels-idx1-ubyte.gz\n"
     ]
    },
    {
     "name": "stderr",
     "output_type": "stream",
     "text": [
      "100%|██████████| 4542/4542 [00:00<00:00, 6670353.21it/s]"
     ]
    },
    {
     "name": "stdout",
     "output_type": "stream",
     "text": [
      "Extracting ./data/MNIST/raw/t10k-labels-idx1-ubyte.gz to ./data/MNIST/raw\n",
      "\n"
     ]
    },
    {
     "name": "stderr",
     "output_type": "stream",
     "text": [
      "\n"
     ]
    },
    {
     "data": {
      "text/plain": [
       "(60000, 10000)"
      ]
     },
     "execution_count": 14,
     "metadata": {},
     "output_type": "execute_result"
    }
   ],
   "source": [
    "# Normalize to mean=0.1307, std=0.3081: standard MNIST normalization\n",
    "transform = transforms.Compose([\n",
    "    transforms.ToTensor(),\n",
    "    transforms.Normalize((0.1307,), (0.3081,))\n",
    "])\n",
    "\n",
    "train_ds = datasets.MNIST(root=\"./data\", train=True,  transform=transform, download=True)\n",
    "test_ds  = datasets.MNIST(root=\"./data\", train=False, transform=transform, download=True)\n",
    "\n",
    "train_loader = DataLoader(train_ds, batch_size=128, shuffle=True, num_workers=2, pin_memory=(device!=\"cpu\"))\n",
    "test_loader  = DataLoader(test_ds,  batch_size=512, shuffle=False, num_workers=2, pin_memory=(device!=\"cpu\"))\n",
    "\n",
    "len(train_ds), len(test_ds)\n"
   ]
  },
  {
   "cell_type": "code",
   "execution_count": 15,
   "id": "f65d7569",
   "metadata": {},
   "outputs": [
    {
     "name": "stdout",
     "output_type": "stream",
     "text": [
      "xb shape: torch.Size([128, 1, 28, 28])\n",
      "yb shape: torch.Size([128])\n",
      "labels sample: [1, 2, 8, 5, 2, 6, 9, 9, 9, 4]\n"
     ]
    }
   ],
   "source": [
    "xb, yb = next(iter(train_loader))\n",
    "print(\"xb shape:\", xb.shape)      # [B, 1, 28, 28]\n",
    "print(\"yb shape:\", yb.shape)      # [B]\n",
    "print(\"labels sample:\", yb[:10].tolist())\n"
   ]
  },
  {
   "cell_type": "code",
   "execution_count": 28,
   "id": "4f803ea1",
   "metadata": {},
   "outputs": [
    {
     "data": {
      "text/plain": [
       "(235146,\n",
       " MLP(\n",
       "   (net): Sequential(\n",
       "     (0): Flatten(start_dim=1, end_dim=-1)\n",
       "     (1): Linear(in_features=784, out_features=256, bias=True)\n",
       "     (2): ReLU()\n",
       "     (3): Linear(in_features=256, out_features=128, bias=True)\n",
       "     (4): ReLU()\n",
       "     (5): Linear(in_features=128, out_features=10, bias=True)\n",
       "   )\n",
       " ))"
      ]
     },
     "execution_count": 28,
     "metadata": {},
     "output_type": "execute_result"
    }
   ],
   "source": [
    "class MLP(nn.Module):\n",
    "    def __init__(self):\n",
    "        super().__init__()\n",
    "        self.net = nn.Sequential(\n",
    "            nn.Flatten(),           # 1×28×28 → 784\n",
    "            nn.Linear(28*28, 256),\n",
    "            nn.ReLU(),\n",
    "            nn.Linear(256, 128),\n",
    "            nn.ReLU(),\n",
    "            nn.Linear(128, 10)      # logits\n",
    "        )\n",
    "    def forward(self, x):\n",
    "        return self.net(x)\n",
    "\n",
    "model = MLP().to(device)\n",
    "sum(p.numel() for p in model.parameters()), model\n"
   ]
  },
  {
   "cell_type": "code",
   "execution_count": 29,
   "id": "21ffb5b6",
   "metadata": {},
   "outputs": [],
   "source": [
    "optimizer = torch.optim.Adam(model.parameters(), lr=1e-3)\n",
    "criterion = nn.CrossEntropyLoss()\n"
   ]
  },
  {
   "cell_type": "code",
   "execution_count": 30,
   "id": "30955e98",
   "metadata": {},
   "outputs": [
    {
     "name": "stdout",
     "output_type": "stream",
     "text": [
      "Epoch 1 | train acc 0.902 | test acc 0.948\n",
      "Epoch 2 | train acc 0.963 | test acc 0.969\n",
      "Epoch 3 | train acc 0.975 | test acc 0.973\n",
      "Epoch 4 | train acc 0.981 | test acc 0.976\n",
      "Epoch 5 | train acc 0.986 | test acc 0.977\n"
     ]
    }
   ],
   "source": [
    "def accuracy(logits, targets):\n",
    "    return (logits.argmax(dim=1) == targets).float().mean().item()\n",
    "\n",
    "def train_one_epoch(model, loader, optimizer, criterion, device):\n",
    "    model.train()\n",
    "    total_loss, total_acc, n = 0.0, 0.0, 0\n",
    "    for xb, yb in loader:\n",
    "        xb = xb.to(device, non_blocking=True)\n",
    "        yb = yb.to(device, non_blocking=True)\n",
    "\n",
    "        logits = model(xb)\n",
    "        loss = criterion(logits, yb)\n",
    "\n",
    "        optimizer.zero_grad()\n",
    "        loss.backward()\n",
    "        optimizer.step()\n",
    "\n",
    "        b = yb.size(0)\n",
    "        total_loss += loss.item() * b\n",
    "        total_acc  += accuracy(logits, yb) * b\n",
    "        n += b\n",
    "    return total_loss / n, total_acc / n\n",
    "\n",
    "@torch.no_grad()\n",
    "def evaluate(model, loader, criterion, device):\n",
    "    model.eval()\n",
    "    total_loss, total_acc, n = 0.0, 0.0, 0\n",
    "    for xb, yb in loader:\n",
    "        xb = xb.to(device, non_blocking=True)\n",
    "        yb = yb.to(device, non_blocking=True)\n",
    "        logits = model(xb)\n",
    "        loss = criterion(logits, yb)\n",
    "        b = yb.size(0)\n",
    "        total_loss += loss.item() * b\n",
    "        total_acc  += accuracy(logits, yb) * b\n",
    "        n += b\n",
    "    return total_loss / n, total_acc / n\n",
    "train_losses, test_losses = [], []\n",
    "train_accs, test_accs = [], []\n",
    "\n",
    "for epoch in range(1, 6):\n",
    "    tr_loss, tr_acc = train_one_epoch(model, train_loader, optimizer, criterion, device)\n",
    "    te_loss, te_acc = evaluate(model, test_loader, criterion, device)\n",
    "\n",
    "    train_losses.append(tr_loss)\n",
    "    test_losses.append(te_loss)\n",
    "    train_accs.append(tr_acc)\n",
    "    test_accs.append(te_acc)\n",
    "\n",
    "    print(f\"Epoch {epoch} | train acc {tr_acc:.3f} | test acc {te_acc:.3f}\")\n",
    "\n"
   ]
  },
  {
   "cell_type": "code",
   "execution_count": 31,
   "id": "45592ad7",
   "metadata": {},
   "outputs": [
    {
     "name": "stderr",
     "output_type": "stream",
     "text": [
      "/var/folders/67/xz_9t3_s7351ym509w5s01z00000gn/T/ipykernel_73530/3286360440.py:6: FutureWarning: You are using `torch.load` with `weights_only=False` (the current default value), which uses the default pickle module implicitly. It is possible to construct malicious pickle data which will execute arbitrary code during unpickling (See https://github.com/pytorch/pytorch/blob/main/SECURITY.md#untrusted-models for more details). In a future release, the default value for `weights_only` will be flipped to `True`. This limits the functions that could be executed during unpickling. Arbitrary objects will no longer be allowed to be loaded via this mode unless they are explicitly allowlisted by the user via `torch.serialization.add_safe_globals`. We recommend you start setting `weights_only=True` for any use case where you don't have full control of the loaded file. Please open an issue on GitHub for any issues related to this experimental feature.\n",
      "  state = torch.load(ckpt_path, map_location=device)\n"
     ]
    },
    {
     "data": {
      "text/plain": [
       "<All keys matched successfully>"
      ]
     },
     "execution_count": 31,
     "metadata": {},
     "output_type": "execute_result"
    }
   ],
   "source": [
    "ckpt_path = \"mnist_mlp.pt\"\n",
    "torch.save({\"model_state\": model.state_dict()}, ckpt_path)\n",
    "\n",
    "# reload example\n",
    "model2 = MLP().to(device)\n",
    "state = torch.load(ckpt_path, map_location=device)\n",
    "model2.load_state_dict(state[\"model_state\"])\n"
   ]
  },
  {
   "cell_type": "code",
   "execution_count": 32,
   "id": "ecfb43ba",
   "metadata": {},
   "outputs": [],
   "source": [
    "import matplotlib.pyplot as plt\n",
    "%matplotlib inline\n",
    "\n",
    "def plot_curves(train_loss, test_loss, train_acc, test_acc):\n",
    "    epochs = range(1, len(train_loss) + 1)\n",
    "    \n",
    "    fig, ax = plt.subplots(1, 2, figsize=(12, 4))\n",
    "\n",
    "    # Loss plot\n",
    "    ax[0].plot(epochs, train_loss, marker=\"o\", label=\"Train Loss\")\n",
    "    ax[0].plot(epochs, test_loss, marker=\"s\", label=\"Test Loss\")\n",
    "    ax[0].set_xlabel(\"Epochs\")\n",
    "    ax[0].set_ylabel(\"Loss\")\n",
    "    ax[0].set_title(\"Loss over Epochs\")\n",
    "    ax[0].legend()\n",
    "    ax[0].grid(True, linestyle=\"--\", alpha=0.6)\n",
    "\n",
    "    # Accuracy plot\n",
    "    ax[1].plot(epochs, train_acc, marker=\"o\", label=\"Train Accuracy\")\n",
    "    ax[1].plot(epochs, test_acc, marker=\"s\", label=\"Test Accuracy\")\n",
    "    ax[1].set_xlabel(\"Epochs\")\n",
    "    ax[1].set_ylabel(\"Accuracy\")\n",
    "    ax[1].set_title(\"Accuracy over Epochs\")\n",
    "    ax[1].legend()\n",
    "    ax[1].grid(True, linestyle=\"--\", alpha=0.6)\n",
    "\n",
    "    plt.show()\n"
   ]
  },
  {
   "cell_type": "code",
   "execution_count": 33,
   "id": "ff60ee07",
   "metadata": {},
   "outputs": [
    {
     "data": {
      "image/png": "[encoded data removed]",
      "text/plain": [
       "<Figure size 1200x400 with 2 Axes>"
      ]
     },
     "metadata": {},
     "output_type": "display_data"
    }
   ],
   "source": [
    "plot_curves(train_losses, test_losses, train_accs, test_accs)\n"
   ]
  },
  {
   "cell_type": "code",
   "execution_count": 20,
   "id": "17065f99",
   "metadata": {},
   "outputs": [
    {
     "data": {
      "text/plain": [
       "[(7, 7),\n",
       " (2, 2),\n",
       " (1, 1),\n",
       " (0, 0),\n",
       " (4, 4),\n",
       " (1, 1),\n",
       " (4, 4),\n",
       " (9, 9),\n",
       " (5, 5),\n",
       " (9, 9)]"
      ]
     },
     "execution_count": 20,
     "metadata": {},
     "output_type": "execute_result"
    }
   ],
   "source": [
    "@torch.no_grad()\n",
    "def predict_samples(model, loader, k=8):\n",
    "    model.eval()\n",
    "    xb, yb = next(iter(loader))\n",
    "    xb, yb = xb.to(device), yb.to(device)\n",
    "    logits = model(xb[:k])\n",
    "    preds = logits.argmax(1).tolist()\n",
    "    truths = yb[:k].tolist()\n",
    "    return list(zip(truths, preds))\n",
    "\n",
    "predict_samples(model, test_loader, k=10)\n"
   ]
  },
  {
   "cell_type": "code",
   "execution_count": null,
   "id": "ca7d79ed",
   "metadata": {},
   "outputs": [],
   "source": []
  },
  {
   "cell_type": "markdown",
   "id": "d71fcffe",
   "metadata": {},
   "source": [
    "## MLP With Dropout and Increased Batch Size"
   ]
  },
  {
   "cell_type": "markdown",
   "id": "32ab6680",
   "metadata": {},
   "source": []
  },
  {
   "cell_type": "code",
   "execution_count": 34,
   "id": "23cf22ef",
   "metadata": {},
   "outputs": [],
   "source": [
    "class MLP(nn.Module):\n",
    "    def __init__(self):\n",
    "        super().__init__()\n",
    "        self.net = nn.Sequential(\n",
    "            nn.Flatten(),                   # 1×28×28 → 784\n",
    "            nn.Linear(28*28, 256),\n",
    "            nn.ReLU(),\n",
    "            nn.Dropout(p=0.20),            # NEW\n",
    "            nn.Linear(256, 128),\n",
    "            nn.ReLU(),\n",
    "            nn.Dropout(p=0.20),            # NEW\n",
    "            nn.Linear(128, 10)             # logits\n",
    "        )\n",
    "    def forward(self, x):\n",
    "        return self.net(x)\n"
   ]
  },
  {
   "cell_type": "code",
   "execution_count": 35,
   "id": "e9903d09",
   "metadata": {},
   "outputs": [],
   "source": [
    "model = MLP().to(device)\n",
    "optimizer = torch.optim.Adam(model.parameters(), lr=1e-3, weight_decay=1e-4)  # NEW\n",
    "criterion = nn.CrossEntropyLoss()\n"
   ]
  },
  {
   "cell_type": "code",
   "execution_count": 36,
   "id": "89704779",
   "metadata": {},
   "outputs": [],
   "source": [
    "train_loader = DataLoader(train_ds, batch_size=256, shuffle=True, num_workers=2, pin_memory=(device!=\"cpu\"))\n",
    "test_loader  = DataLoader(test_ds,  batch_size=1024, shuffle=False, num_workers=2, pin_memory=(device!=\"cpu\"))\n"
   ]
  },
  {
   "cell_type": "code",
   "execution_count": 37,
   "id": "0967dc73",
   "metadata": {},
   "outputs": [
    {
     "name": "stdout",
     "output_type": "stream",
     "text": [
      "Epoch 1 | train acc 0.889 | test acc 0.953\n",
      "Epoch 2 | train acc 0.955 | test acc 0.969\n",
      "Epoch 3 | train acc 0.967 | test acc 0.970\n",
      "Epoch 4 | train acc 0.973 | test acc 0.977\n",
      "Epoch 5 | train acc 0.977 | test acc 0.976\n"
     ]
    }
   ],
   "source": [
    "def accuracy(logits, targets):\n",
    "    return (logits.argmax(dim=1) == targets).float().mean().item()\n",
    "\n",
    "def train_one_epoch(model, loader, optimizer, criterion, device):\n",
    "    model.train()\n",
    "    total_loss, total_acc, n = 0.0, 0.0, 0\n",
    "    for xb, yb in loader:\n",
    "        xb = xb.to(device, non_blocking=True)\n",
    "        yb = yb.to(device, non_blocking=True)\n",
    "\n",
    "        logits = model(xb)\n",
    "        loss = criterion(logits, yb)\n",
    "\n",
    "        optimizer.zero_grad()\n",
    "        loss.backward()\n",
    "        optimizer.step()\n",
    "\n",
    "        b = yb.size(0)\n",
    "        total_loss += loss.item() * b\n",
    "        total_acc  += accuracy(logits, yb) * b\n",
    "        n += b\n",
    "    return total_loss / n, total_acc / n\n",
    "\n",
    "@torch.no_grad()\n",
    "def evaluate(model, loader, criterion, device):\n",
    "    model.eval()\n",
    "    total_loss, total_acc, n = 0.0, 0.0, 0\n",
    "    for xb, yb in loader:\n",
    "        xb = xb.to(device, non_blocking=True)\n",
    "        yb = yb.to(device, non_blocking=True)\n",
    "        logits = model(xb)\n",
    "        loss = criterion(logits, yb)\n",
    "        b = yb.size(0)\n",
    "        total_loss += loss.item() * b\n",
    "        total_acc  += accuracy(logits, yb) * b\n",
    "        n += b\n",
    "    return total_loss / n, total_acc / n\n",
    "\n",
    "for epoch in range(1, 6):\n",
    "    tr_loss, tr_acc = train_one_epoch(model, train_loader, optimizer, criterion, device)\n",
    "    te_loss, te_acc = evaluate(model, test_loader, criterion, device)\n",
    "\n",
    "    train_losses.append(tr_loss)\n",
    "    test_losses.append(te_loss)\n",
    "    train_accs.append(tr_acc)\n",
    "    test_accs.append(te_acc)\n",
    "\n",
    "    print(f\"Epoch {epoch} | train acc {tr_acc:.3f} | test acc {te_acc:.3f}\")\n"
   ]
  },
  {
   "cell_type": "code",
   "execution_count": 38,
   "id": "4d73af3a",
   "metadata": {},
   "outputs": [
    {
     "name": "stderr",
     "output_type": "stream",
     "text": [
      "/var/folders/67/xz_9t3_s7351ym509w5s01z00000gn/T/ipykernel_73530/2666982437.py:6: FutureWarning: You are using `torch.load` with `weights_only=False` (the current default value), which uses the default pickle module implicitly. It is possible to construct malicious pickle data which will execute arbitrary code during unpickling (See https://github.com/pytorch/pytorch/blob/main/SECURITY.md#untrusted-models for more details). In a future release, the default value for `weights_only` will be flipped to `True`. This limits the functions that could be executed during unpickling. Arbitrary objects will no longer be allowed to be loaded via this mode unless they are explicitly allowlisted by the user via `torch.serialization.add_safe_globals`. We recommend you start setting `weights_only=True` for any use case where you don't have full control of the loaded file. Please open an issue on GitHub for any issues related to this experimental feature.\n",
      "  state = torch.load(ckpt_path_2, map_location=device)\n"
     ]
    },
    {
     "data": {
      "text/plain": [
       "<All keys matched successfully>"
      ]
     },
     "execution_count": 38,
     "metadata": {},
     "output_type": "execute_result"
    }
   ],
   "source": [
    "ckpt_path_2 = \"mnist_mlp_2.pt\"\n",
    "torch.save({\"model_state\": model.state_dict()}, ckpt_path_2)\n",
    "\n",
    "# reload example\n",
    "model2 = MLP().to(device)\n",
    "state = torch.load(ckpt_path_2, map_location=device)\n",
    "model2.load_state_dict(state[\"model_state\"])\n"
   ]
  },
  {
   "cell_type": "code",
   "execution_count": 39,
   "id": "f97ca1b9",
   "metadata": {},
   "outputs": [
    {
     "data": {
      "image/png": "[encoded data removed]",
      "text/plain": [
       "<Figure size 1200x400 with 2 Axes>"
      ]
     },
     "metadata": {},
     "output_type": "display_data"
    }
   ],
   "source": [
    "plot_curves(train_losses, test_losses, train_accs, test_accs)\n"
   ]
  },
  {
   "cell_type": "code",
   "execution_count": 26,
   "id": "94937090",
   "metadata": {},
   "outputs": [
    {
     "data": {
      "text/plain": [
       "[(7, 7),\n",
       " (2, 2),\n",
       " (1, 1),\n",
       " (0, 0),\n",
       " (4, 4),\n",
       " (1, 1),\n",
       " (4, 4),\n",
       " (9, 9),\n",
       " (5, 5),\n",
       " (9, 9)]"
      ]
     },
     "execution_count": 26,
     "metadata": {},
     "output_type": "execute_result"
    }
   ],
   "source": [
    "@torch.no_grad()\n",
    "def predict_samples(model, loader, k=8):\n",
    "    model.eval()\n",
    "    xb, yb = next(iter(loader))\n",
    "    xb, yb = xb.to(device), yb.to(device)\n",
    "    logits = model(xb[:k])\n",
    "    preds = logits.argmax(1).tolist()\n",
    "    truths = yb[:k].tolist()\n",
    "    return list(zip(truths, preds))\n",
    "\n",
    "predict_samples(model2, test_loader, k=10)\n"
   ]
  },
  {
   "cell_type": "code",
   "execution_count": null,
   "id": "56c3c8c7",
   "metadata": {},
   "outputs": [],
   "source": []
  },
  {
   "cell_type": "code",
   "execution_count": null,
   "id": "cfa707f5",
   "metadata": {},
   "outputs": [],
   "source": []
  }
 ],
 "metadata": {
  "kernelspec": {
   "display_name": "venv",
   "language": "python",
   "name": "python3"
  },
  "language_info": {
   "codemirror_mode": {
    "name": "ipython",
    "version": 3
   },
   "file_extension": ".py",
   "mimetype": "text/x-python",
   "name": "python",
   "nbconvert_exporter": "python",
   "pygments_lexer": "ipython3",
   "version": "3.13.3"
  }
 },
 "nbformat": 4,
 "nbformat_minor": 5
}
